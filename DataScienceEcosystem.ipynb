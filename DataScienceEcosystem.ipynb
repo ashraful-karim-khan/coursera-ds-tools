{
 "cells": [
  {
   "cell_type": "markdown",
   "id": "311f7df3-e5e1-4027-aa3a-5cf8acee1036",
   "metadata": {
    "tags": []
   },
   "source": [
    "# Data Science Tools and Ecosystem"
   ]
  },
  {
   "cell_type": "markdown",
   "id": "52cb3189-f796-4f10-ac9b-d80eff5d0858",
   "metadata": {},
   "source": [
    "In this notebook, Data Science Tools and Ecosystem are summarized."
   ]
  },
  {
   "cell_type": "markdown",
   "id": "1053098a-0108-46fc-82bc-92f09f58f5ad",
   "metadata": {},
   "source": [
    "**Objectives:**\n",
    "- List popular languages for Data Science\n",
    "- List Data Science Libraries\n",
    "- List Data Science Tools"
   ]
  },
  {
   "cell_type": "markdown",
   "id": "c036218f-3489-47ed-9696-c1d8b85f2916",
   "metadata": {},
   "source": [
    "Some of the popular languages that Data Scientists use are:\n",
    "\n",
    "    1. Python\n",
    "    2. R\n",
    "    3. Scala"
   ]
  },
  {
   "cell_type": "markdown",
   "id": "5125f995-6df2-4f57-b9f7-7eee259c0971",
   "metadata": {},
   "source": [
    "Some of the commonly used libraries used by Data Scientists include:\n",
    "1. Panda\n",
    "2. Matplotlib\n",
    "3. ggplot\n",
    "4. NumPy\n",
    "5. Seaborn"
   ]
  },
  {
   "cell_type": "markdown",
   "id": "970ed100-a705-47df-8053-20ebeadfa8b7",
   "metadata": {
    "tags": []
   },
   "source": [
    "| Data Science Tools |\n",
    " --------------------\n",
    "| Jupyter Notebook |\n",
    "| R Studio |\n",
    "| Tableau |"
   ]
  },
  {
   "cell_type": "markdown",
   "id": "9381ecef-6248-4506-8831-d2c2b308ee13",
   "metadata": {},
   "source": [
    "### Below are a few examples of evaluating arithmetic expressions in Python\n"
   ]
  },
  {
   "cell_type": "code",
   "execution_count": 5,
   "id": "4c098ecb-4254-486e-846e-4983001bdaf7",
   "metadata": {
    "tags": []
   },
   "outputs": [
    {
     "data": {
      "text/plain": [
       "17"
      ]
     },
     "execution_count": 5,
     "metadata": {},
     "output_type": "execute_result"
    }
   ],
   "source": [
    "# This a simple arithmetic expression to mutiply then add integers\n",
    "(3*4)+5"
   ]
  },
  {
   "cell_type": "code",
   "execution_count": 7,
   "id": "6d3a64b1-d145-4aaa-9029-ca97208c4b6b",
   "metadata": {
    "tags": []
   },
   "outputs": [
    {
     "data": {
      "text/plain": [
       "3.3333333333333335"
      ]
     },
     "execution_count": 7,
     "metadata": {},
     "output_type": "execute_result"
    }
   ],
   "source": [
    "# This will convert 200 minutes to hours by dividing by 60\n",
    "200/60"
   ]
  },
  {
   "cell_type": "markdown",
   "id": "75f346c7-89b0-486b-b983-6a021eee4ee8",
   "metadata": {},
   "source": [
    "## Author\n",
    "Md. Ashraful Karim Khan"
   ]
  },
  {
   "cell_type": "code",
   "execution_count": null,
   "id": "792d8db5-e8e0-4803-882f-de4956c7fdb5",
   "metadata": {},
   "outputs": [],
   "source": []
  }
 ],
 "metadata": {
  "kernelspec": {
   "display_name": "Python",
   "language": "python",
   "name": "conda-env-python-py"
  },
  "language_info": {
   "codemirror_mode": {
    "name": "ipython",
    "version": 3
   },
   "file_extension": ".py",
   "mimetype": "text/x-python",
   "name": "python",
   "nbconvert_exporter": "python",
   "pygments_lexer": "ipython3",
   "version": "3.7.12"
  }
 },
 "nbformat": 4,
 "nbformat_minor": 5
}
